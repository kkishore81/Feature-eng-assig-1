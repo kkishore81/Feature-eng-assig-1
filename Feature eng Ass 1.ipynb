{
 "cells": [
  {
   "cell_type": "code",
   "execution_count": null,
   "id": "12f31c92-7add-46a3-b9d8-e94103cc65c3",
   "metadata": {},
   "outputs": [],
   "source": [
    "# Q1. What is the Filter method in feature selection, and how does it work?"
   ]
  },
  {
   "cell_type": "code",
   "execution_count": 1,
   "id": "84b597b3-7957-4d28-97ba-dbc6c7a288b5",
   "metadata": {},
   "outputs": [],
   "source": [
    "# The Filter method in feature selection is a technique used in machine learning to choose relevant features for a model. \n",
    "#It involves evaluating each feature independently based on statistical measures like correlation or information gain. \n",
    "# Features are ranked or scored, and a predetermined number of top-scoring features are selected for the model, aiming to improve its efficiency and accuracy. "
   ]
  },
  {
   "cell_type": "code",
   "execution_count": 2,
   "id": "ba899142-777f-4604-8ca3-92ac09dfc4e6",
   "metadata": {},
   "outputs": [],
   "source": [
    "# Q2. How does the Wrapper method differ from the Filter method in feature selection?"
   ]
  },
  {
   "cell_type": "code",
   "execution_count": 3,
   "id": "7b013cb9-5b08-4bb7-91a1-64107a5751b4",
   "metadata": {},
   "outputs": [],
   "source": [
    "# The Wrapper method in feature selection involves training and evaluating the model iteratively with different subsets of features to identify the optimal combination. \n",
    "# It directly measures the model's performance with each subset, making it computationally more intensive but potentially yielding better results. In contrast, \n",
    "#the Filter method assesses features independently based on statistical metrics without involving model training, making it faster but potentially missing complex feature interactions."
   ]
  },
  {
   "cell_type": "code",
   "execution_count": 4,
   "id": "291c38c8-86b9-4a7d-98a7-f331dc92d71f",
   "metadata": {},
   "outputs": [],
   "source": [
    "# Q3. What are some common techniques used in Embedded feature selection methods?"
   ]
  },
  {
   "cell_type": "code",
   "execution_count": 5,
   "id": "d59f5838-3844-4b1e-95cb-c7e0dd1abcda",
   "metadata": {},
   "outputs": [],
   "source": [
    "#Embedded feature selection methods include techniques like LASSO (L1 regularization) and decision tree-based feature importance. \n",
    "#These methods integrate feature selection within the model training process, automatically selecting relevant features during model optimization."
   ]
  },
  {
   "cell_type": "code",
   "execution_count": 6,
   "id": "2c2b04a6-9c1c-4818-8d05-62638af7701b",
   "metadata": {},
   "outputs": [],
   "source": [
    "# Q4. What are some drawbacks of using the Filter method for feature selection?"
   ]
  },
  {
   "cell_type": "code",
   "execution_count": 7,
   "id": "e2c849c7-249b-4b83-8d7d-ae273dadf2cf",
   "metadata": {},
   "outputs": [],
   "source": [
    "#Filter method drawbacks include its inability to capture feature interactions, \n",
    "#ignoring the model's actual predictive performance, potentially retaining redundant features, and not considering the impact of feature subsets on the model's final performance."
   ]
  },
  {
   "cell_type": "code",
   "execution_count": 8,
   "id": "4466eb24-fc15-45dc-b947-8a9ef1805f0e",
   "metadata": {},
   "outputs": [],
   "source": [
    "# Q5. In which situations would you prefer using the Filter method over the Wrapper method for feature selection?"
   ]
  },
  {
   "cell_type": "code",
   "execution_count": 10,
   "id": "0a066fe0-9576-4fb3-866d-3e6520b83600",
   "metadata": {},
   "outputs": [],
   "source": [
    "# We can use the Filter method when dealing with large datasets where model training is time-consuming, and you want a quick feature selection process based on statistical measures \n",
    "# without incurring the computational overhead of training and evaluating multiple models, as in the Wrapper method."
   ]
  },
  {
   "cell_type": "code",
   "execution_count": 11,
   "id": "c874d510-9a38-4c46-a95c-2d6d2fe48fa0",
   "metadata": {},
   "outputs": [],
   "source": [
    "#Q6. In a telecom company, you are working on a project to develop a predictive model for customer churn.\n",
    "#You are unsure of which features to include in the model because the dataset contains several different\n",
    "#ones. Describe how you would choose the most pertinent attributes for the model using the Filter Method."
   ]
  },
  {
   "cell_type": "code",
   "execution_count": 12,
   "id": "af21f23c-22bf-4981-b8c1-b75f04617253",
   "metadata": {},
   "outputs": [],
   "source": [
    "#To select pertinent attributes using the Filter method, I would calculate statistical metrics like correlation,\n",
    "#information gain, or chi-square between each feature and the target variable (churn). Features with the highest scores indicating strong associations with churn would be selected, \n",
    "#streamlining the model input to the most relevant factors without the need for iterative model training."
   ]
  },
  {
   "cell_type": "code",
   "execution_count": 13,
   "id": "5ccd140e-c24a-498d-a286-87a1d285c60f",
   "metadata": {},
   "outputs": [],
   "source": [
    "#Q7. You are working on a project to predict the outcome of a soccer match. You have a large dataset with many features, including player statistics and team rankings.\n",
    "#Explain how you would use the Embedded method to select the most relevant features for the model."
   ]
  },
  {
   "cell_type": "code",
   "execution_count": 14,
   "id": "74948402-486d-4a4c-b6fe-26b13cd450a1",
   "metadata": {},
   "outputs": [],
   "source": [
    "#I would use the embedded method to select the most relevant features for the model by training a machine learning algorithm on the dataset and then observing\n",
    "#which features have the most impact on the model's predictions. \n",
    "#The features with the most impact are the most relevant to the outcome of the soccer match."
   ]
  },
  {
   "cell_type": "code",
   "execution_count": 15,
   "id": "2a6f7b9d-5b6c-4efa-8f62-ef070862856a",
   "metadata": {},
   "outputs": [],
   "source": [
    "#Q8. You are working on a project to predict the price of a house based on its features, such as size, location,\n",
    "#and age. You have a limited number of features, and you want to ensure that you select the most important\n",
    "#ones for the model. Explain how you would use the Wrapper method to select the best set of features for the\n",
    "#predictor."
   ]
  },
  {
   "cell_type": "code",
   "execution_count": null,
   "id": "765912ba-c86a-47ef-8529-00e0acb6fa14",
   "metadata": {},
   "outputs": [],
   "source": [
    "# I would use the wrapper method to select the best set of features for the predictor by training a machine learning algorithm on the dataset \n",
    "# and then iteratively adding and removing features based on their impact on the model's performance.\n",
    "# The features that improve the model's performance the most are the most important ones."
   ]
  }
 ],
 "metadata": {
  "kernelspec": {
   "display_name": "Python 3 (ipykernel)",
   "language": "python",
   "name": "python3"
  },
  "language_info": {
   "codemirror_mode": {
    "name": "ipython",
    "version": 3
   },
   "file_extension": ".py",
   "mimetype": "text/x-python",
   "name": "python",
   "nbconvert_exporter": "python",
   "pygments_lexer": "ipython3",
   "version": "3.10.8"
  }
 },
 "nbformat": 4,
 "nbformat_minor": 5
}
